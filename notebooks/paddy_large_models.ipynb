{
 "cells": [
  {
   "cell_type": "code",
   "execution_count": 1,
   "id": "5e46b5b1-3f63-4799-ba4c-9d5e9e39a908",
   "metadata": {},
   "outputs": [],
   "source": [
    "import timm\n",
    "from fastai.vision.all import *\n",
    "from fastcore.parallel import *"
   ]
  },
  {
   "cell_type": "code",
   "execution_count": 2,
   "id": "306723e9-6f6b-48d0-b4c1-24524ae54078",
   "metadata": {},
   "outputs": [],
   "source": [
    "path = Path.BASE_PATH = Path.home()/'paddy'\n",
    "trn_path = path/'train_images'\n",
    "tst_files = get_image_files(path/'test_images').sorted()"
   ]
  },
  {
   "cell_type": "code",
   "execution_count": 3,
   "id": "2dd2aae5-beb9-444d-8284-acd65c587ce7",
   "metadata": {},
   "outputs": [],
   "source": [
    "tta_res = []"
   ]
  },
  {
   "cell_type": "code",
   "execution_count": 4,
   "id": "7551d2a4-4eec-4075-938b-4606e3d82ee8",
   "metadata": {},
   "outputs": [],
   "source": [
    "def train(desc, arch, item, batch, accum=False):\n",
    "    kwargs = {'bs': 32} if accum else {}\n",
    "    dls = ImageDataLoaders.from_folder(trn_path, valid_pct=0.2, item_tfms=item, batch_tfms=batch, **kwargs)\n",
    "    cbs = GradientAccumulation(2) if accum else []\n",
    "    learn = vision_learner(dls, arch, metrics=error_rate, cbs=cbs).to_fp16()\n",
    "    learn.fine_tune(12, 0.01)\n",
    "    tts_res.append(learn.tta(learn.tta(dl=dls.test_dl(tst_files))))\n",
    "    learn.export(f'{arch}_{desc}')"
   ]
  },
  {
   "cell_type": "code",
   "execution_count": null,
   "id": "d8fa4ca8-0e92-4eb7-a0b7-ffda160e3661",
   "metadata": {},
   "outputs": [],
   "source": []
  }
 ],
 "metadata": {
  "kernelspec": {
   "display_name": "Python 3 (ipykernel)",
   "language": "python",
   "name": "python3"
  },
  "language_info": {
   "codemirror_mode": {
    "name": "ipython",
    "version": 3
   },
   "file_extension": ".py",
   "mimetype": "text/x-python",
   "name": "python",
   "nbconvert_exporter": "python",
   "pygments_lexer": "ipython3",
   "version": "3.9.13"
  }
 },
 "nbformat": 4,
 "nbformat_minor": 5
}
